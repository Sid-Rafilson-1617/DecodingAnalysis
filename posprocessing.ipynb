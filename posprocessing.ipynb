{
 "cells": [
  {
   "cell_type": "code",
   "execution_count": 1,
   "id": "87ba281a",
   "metadata": {},
   "outputs": [],
   "source": [
    "import numpy as np\n",
    "from scipy import stats\n",
    "import os"
   ]
  },
  {
   "cell_type": "code",
   "execution_count": null,
   "id": "99f62886",
   "metadata": {},
   "outputs": [
    {
     "name": "stdout",
     "output_type": "stream",
     "text": [
      "['10', '11', '12', '13', '14', '3', '4', '5', '6', '7', '8', '9']\n"
     ]
    }
   ],
   "source": [
    "mice = ['6002']\n",
    "regions = ['HC', 'OB']\n",
    "\n",
    "pos_data = r\"C:\\Users\\smearlab\\analysis_code\\EncodingModels\\outputs\\window_0.1_sequence_length_8_behaviors_['position_x', 'position_y', 'velocity_x', 'velocity_y']\"\n",
    "sniff_data = r\"C:\\Users\\smearlab\\analysis_code\\EncodingModels\\outputs\\window_0.1_sequence_length_8_behaviors_['position_x', 'position_y', 'velocity_x', 'velocity_y', 'sns']\"\n",
    "\n",
    "for mouse in mice:\n",
    "    pos_dir = os.path.join(pos_data, mouse)\n",
    "    sniff_dir = os.path.join(sniff_data, mouse)\n",
    "\n",
    "    pos_sessions = [d for d in os.listdir(pos_dir) if os.path.isdir(os.path.join(pos_dir, d))]\n",
    "    sniff_sessions = [d for d in os.listdir(sniff_dir) if os.path.isdir(os.path.join(sniff_dir, d))]\n",
    "    sessions = set(pos_sessions) & set(sniff_sessions)\n",
    "\n",
    "    for session in sessions:\n"
   ]
  },
  {
   "cell_type": "code",
   "execution_count": null,
   "id": "c53db214",
   "metadata": {},
   "outputs": [],
   "source": []
  }
 ],
 "metadata": {
  "kernelspec": {
   "display_name": "Python (decoding)",
   "language": "python",
   "name": "decoding"
  },
  "language_info": {
   "codemirror_mode": {
    "name": "ipython",
    "version": 3
   },
   "file_extension": ".py",
   "mimetype": "text/x-python",
   "name": "python",
   "nbconvert_exporter": "python",
   "pygments_lexer": "ipython3",
   "version": "3.13.2"
  }
 },
 "nbformat": 4,
 "nbformat_minor": 5
}
